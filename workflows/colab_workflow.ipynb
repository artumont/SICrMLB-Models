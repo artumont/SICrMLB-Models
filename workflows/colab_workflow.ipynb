{
 "cells": [
  {
   "cell_type": "markdown",
   "id": "4ad29252",
   "metadata": {},
   "source": [
    "Install all dependencies using `pdm install` before running the code."
   ]
  },
  {
   "cell_type": "code",
   "execution_count": null,
   "id": "8c8447c4",
   "metadata": {
    "vscode": {
     "languageId": "bat"
    }
   },
   "outputs": [],
   "source": [
    "!pip install pdm\n",
    "!git clone https://github.com/artumont/SICrMLB-Models.git\n",
    "!cd ./SICrMLB-Models && pdm install && pip install ultralytics > /dev/null 2>&1"
   ]
  },
  {
   "cell_type": "markdown",
   "id": "f4d1755d",
   "metadata": {},
   "source": [
    "Generate dataset using the `build_dataset.py` script and the data found in `raw_data/cards`"
   ]
  },
  {
   "cell_type": "code",
   "execution_count": null,
   "id": "71053edf",
   "metadata": {
    "vscode": {
     "languageId": "plaintext"
    }
   },
   "outputs": [],
   "source": [
    "!cd ./SICrMLB-Models && pdm run sicrmlb_models/build_dataset.py -dn cards -rd sicrmlb_models/raw_data/cards"
   ]
  },
  {
   "cell_type": "markdown",
   "id": "9156d880",
   "metadata": {},
   "source": [
    "Start traning using a copy of the `train_yolov11.py` script modified to work on colab machines"
   ]
  },
  {
   "cell_type": "code",
   "execution_count": null,
   "id": "3410ea90",
   "metadata": {},
   "outputs": [],
   "source": [
    "import torch\n",
    "from ultralytics import YOLO  # type: ignore\n",
    "\n",
    "if __name__ == \"__main__\":\n",
    "\n",
    "    data = \"/content/SICrMLB-Models/sicrmlb_models/datasets/cards/data.yaml\"  # @param {type:\"string\"}\n",
    "    model = \"yolo11n.pt\"  # @param {type:\"string\"}\n",
    "    epochs = 50  # @param {type:\"number\"}\n",
    "    batch_size = 32  # @param {type:\"number\"}\n",
    "    name = \"cr-card-classification\"  # @param {type:\"string\"}\n",
    "\n",
    "    model = YOLO(model)\n",
    "\n",
    "    if torch.cuda.is_available():\n",
    "        print(\"Using CUDA for training.\")\n",
    "        device = \"cuda\"\n",
    "    else:\n",
    "        print(\"Using CPU for training.\")\n",
    "        device = \"cpu\"\n",
    "\n",
    "    model.train(\n",
    "        data=data,\n",
    "        epochs=epochs,\n",
    "        batch=batch_size,\n",
    "        imgsz=120,\n",
    "        device=device,\n",
    "        name=name,\n",
    "    )"
   ]
  },
  {
   "cell_type": "markdown",
   "id": "5c025356",
   "metadata": {},
   "source": [
    "Zip up and download the trained model files located in `/content/runs/detect` once training is complete"
   ]
  },
  {
   "cell_type": "code",
   "execution_count": null,
   "id": "6ca39bd5",
   "metadata": {},
   "outputs": [],
   "source": [
    "from google.colab import files # type: ignore\n",
    "\n",
    "name = \"cr-card-classification\"  # @param {type:\"string\"}\n",
    "\n",
    "!zip -r /content/{name}.zip /content/runs/detect/{name}\n",
    "\n",
    "files.download(f\"/content/{name}.zip\")"
   ]
  }
 ],
 "metadata": {
  "language_info": {
   "name": "python"
  }
 },
 "nbformat": 4,
 "nbformat_minor": 5
}
